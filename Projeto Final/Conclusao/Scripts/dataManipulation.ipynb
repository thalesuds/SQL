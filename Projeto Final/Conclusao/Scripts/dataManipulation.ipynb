{
 "cells": [
  {
   "cell_type": "code",
   "execution_count": 1,
   "metadata": {},
   "outputs": [],
   "source": [
    "import pandas as pd\n",
    "from apiConsume import *\n",
    "from schemaConnection import *"
   ]
  },
  {
   "cell_type": "code",
   "execution_count": 2,
   "metadata": {},
   "outputs": [],
   "source": [
    "key = \"?api_key=2a3e4ba3-ad98-4a26-9b3c-985ab994040b\""
   ]
  },
  {
   "cell_type": "code",
   "execution_count": 3,
   "metadata": {},
   "outputs": [],
   "source": [
    "regions = GetRegions(key)\n",
    "InsertRegionsIntoDataBase(regions)"
   ]
  },
  {
   "cell_type": "code",
   "execution_count": 4,
   "metadata": {},
   "outputs": [],
   "source": [
    "gameMode = GetGameModes(key)\n",
    "InsertGameModesIntoDataBase(gameMode)"
   ]
  },
  {
   "cell_type": "code",
   "execution_count": 5,
   "metadata": {},
   "outputs": [],
   "source": [
    "heroes = GetHeroes(key)\n",
    "InsertHerosIntoDataBase(heroes)"
   ]
  },
  {
   "cell_type": "code",
   "execution_count": 3,
   "metadata": {},
   "outputs": [],
   "source": [
    "teams = GetProfessionalTeams(key)\n",
    "teams = teams.json()"
   ]
  },
  {
   "cell_type": "code",
   "execution_count": 4,
   "metadata": {},
   "outputs": [],
   "source": [
    "selectedTeams = ['Team Liquid', 'Tundra Esports', 'Gaimin Gladiators', 'OG', 'Team Secret', 'Nigma Galaxy']\n",
    "teamData = FilterProfessionalTeams(selectedTeams, teams)"
   ]
  },
  {
   "cell_type": "code",
   "execution_count": 8,
   "metadata": {},
   "outputs": [],
   "source": [
    "InsertTeamsIntoDataBase(teamData)"
   ]
  },
  {
   "cell_type": "code",
   "execution_count": 5,
   "metadata": {},
   "outputs": [],
   "source": [
    "players = GetPlayersFromTeams(teamData, key)"
   ]
  },
  {
   "cell_type": "code",
   "execution_count": 10,
   "metadata": {},
   "outputs": [],
   "source": [
    "InsertTeamPlayersIntoDataBase(players)"
   ]
  },
  {
   "cell_type": "code",
   "execution_count": 11,
   "metadata": {},
   "outputs": [],
   "source": [
    "playersInfos = GetInfoFromTeamPlayers(players, key)\n"
   ]
  },
  {
   "cell_type": "code",
   "execution_count": 12,
   "metadata": {},
   "outputs": [],
   "source": [
    "InsertPlayersInfosIntoDataBase(playersInfos)"
   ]
  },
  {
   "cell_type": "code",
   "execution_count": 23,
   "metadata": {},
   "outputs": [],
   "source": [
    "playersMatches = GetPlayersMatches(players, key)"
   ]
  },
  {
   "cell_type": "code",
   "execution_count": 38,
   "metadata": {},
   "outputs": [
    {
     "data": {
      "text/plain": [
       "7199923587"
      ]
     },
     "execution_count": 38,
     "metadata": {},
     "output_type": "execute_result"
    }
   ],
   "source": [
    "##Get Unique Matches Ids\n",
    "\n",
    "matchsIds = []\n",
    "indexToPop = []\n",
    "for i in range(len(playersMatches)):\n",
    "    match = playersMatches[i]\n",
    "    \n",
    "    if(match != 'error'):\n",
    "        match_id = match['match_id']\n",
    "        matchsIds.append(match_id)\n",
    "\n",
    "    else:\n",
    "        indexToPop.append(i)\n",
    "\n",
    "for i in range(len(indexToPop)):\n",
    "    index = indexToPop[i]\n",
    "    playersMatches.pop(index)\n",
    "\n",
    "matchsIds[0]"
   ]
  },
  {
   "cell_type": "code",
   "execution_count": 39,
   "metadata": {},
   "outputs": [
    {
     "data": {
      "text/plain": [
       "(320, 138)"
      ]
     },
     "execution_count": 39,
     "metadata": {},
     "output_type": "execute_result"
    }
   ],
   "source": [
    "uniqueMatches = list(set(matchsIds))\n",
    "len(matchsIds), len(uniqueMatches)"
   ]
  },
  {
   "cell_type": "code",
   "execution_count": null,
   "metadata": {},
   "outputs": [],
   "source": [
    "dfUniqueMatches = pd.DataFrame(uniqueMatches, columns= ['uniqueMatches'])\n",
    "dfUniqueMatches.head()"
   ]
  },
  {
   "cell_type": "code",
   "execution_count": 48,
   "metadata": {},
   "outputs": [],
   "source": [
    "dfUniqueMatches.to_csv('uniqueMatches.csv')"
   ]
  },
  {
   "cell_type": "code",
   "execution_count": 50,
   "metadata": {},
   "outputs": [],
   "source": [
    "matches = GetMatches(uniqueMatches, key)"
   ]
  },
  {
   "cell_type": "code",
   "execution_count": null,
   "metadata": {},
   "outputs": [],
   "source": [
    "dfMatches = pd.DataFrame(matches)\n",
    "dfMatches.head()"
   ]
  },
  {
   "cell_type": "code",
   "execution_count": 59,
   "metadata": {},
   "outputs": [],
   "source": [
    "dfMatches.to_csv('matches.csv')"
   ]
  },
  {
   "cell_type": "code",
   "execution_count": 69,
   "metadata": {},
   "outputs": [],
   "source": [
    "InsertPlayersMatchesIntoDataBase(playersMatches)"
   ]
  },
  {
   "cell_type": "code",
   "execution_count": null,
   "metadata": {},
   "outputs": [],
   "source": []
  }
 ],
 "metadata": {
  "kernelspec": {
   "display_name": "Python 3",
   "language": "python",
   "name": "python3"
  },
  "language_info": {
   "codemirror_mode": {
    "name": "ipython",
    "version": 3
   },
   "file_extension": ".py",
   "mimetype": "text/x-python",
   "name": "python",
   "nbconvert_exporter": "python",
   "pygments_lexer": "ipython3",
   "version": "3.11.2"
  },
  "orig_nbformat": 4
 },
 "nbformat": 4,
 "nbformat_minor": 2
}
